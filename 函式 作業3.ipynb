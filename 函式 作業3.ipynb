{
 "cells": [
  {
   "cell_type": "code",
   "execution_count": null,
   "id": "d08ad65b",
   "metadata": {},
   "outputs": [
    {
     "name": "stdout",
     "output_type": "stream",
     "text": [
      "請輸入一個正整數（按Enter鍵退出）: 324\n",
      "324 的因數是：[1, 2, 3, 4, 6, 9, 12, 18, 27, 36, 54, 81, 108, 162, 324]\n"
     ]
    }
   ],
   "source": [
    "while True:\n",
    "    try:\n",
    "        user_input = input(\"請輸入一個正整數（按Enter鍵退出）: \")\n",
    "        if user_input == \"\":\n",
    "            break  # 如果按下Enter鍵，退出循環\n",
    "\n",
    "        number = int(user_input)\n",
    "\n",
    "        if number <= 0:\n",
    "            print(\"請輸入一個正整數。\")\n",
    "            continue\n",
    "\n",
    "        factors = []\n",
    "        for i in range(1, number + 1):\n",
    "            if number % i == 0:\n",
    "                factors.append(i)\n",
    "\n",
    "        print(f\"{number} 的因數是：{factors}\")\n",
    "\n",
    "    except ValueError:\n",
    "        print(\"請輸入一個有效的正整數。\")\n"
   ]
  },
  {
   "cell_type": "code",
   "execution_count": null,
   "id": "f22150e0",
   "metadata": {},
   "outputs": [],
   "source": []
  }
 ],
 "metadata": {
  "kernelspec": {
   "display_name": "Python 3 (ipykernel)",
   "language": "python",
   "name": "python3"
  },
  "language_info": {
   "codemirror_mode": {
    "name": "ipython",
    "version": 3
   },
   "file_extension": ".py",
   "mimetype": "text/x-python",
   "name": "python",
   "nbconvert_exporter": "python",
   "pygments_lexer": "ipython3",
   "version": "3.11.5"
  }
 },
 "nbformat": 4,
 "nbformat_minor": 5
}
